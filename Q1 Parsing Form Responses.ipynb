{
 "cells": [
  {
   "cell_type": "code",
   "execution_count": 56,
   "id": "b889bb03",
   "metadata": {},
   "outputs": [],
   "source": [
    "file1 = \"Dataset_Q1.csv\""
   ]
  },
  {
   "cell_type": "code",
   "execution_count": 57,
   "id": "ccaed4c1",
   "metadata": {},
   "outputs": [],
   "source": [
    "def get_emails(file):\n",
    "    import numpy as np\n",
    "    arr=np.loadtxt(file,dtype='str',delimiter=',',skiprows=1)\n",
    "    x=len(arr)\n",
    "    s=\"\"\n",
    "    for i in range(x):\n",
    "        s=s+arr[i][2]+\"@iitb.ac.in,\"\n",
    "    s=s[:-1]\n",
    "    return s"
   ]
  },
  {
   "cell_type": "code",
   "execution_count": 58,
   "id": "6d2c571a",
   "metadata": {},
   "outputs": [
    {
     "name": "stdout",
     "output_type": "stream",
     "text": [
      "20000003@iitb.ac.in,20000006@iitb.ac.in,20010000@iitb.ac.in,19020000@iitb.ac.in,20000304@iitb.ac.in\n"
     ]
    }
   ],
   "source": [
    "print(get_emails(file1))"
   ]
  },
  {
   "cell_type": "code",
   "execution_count": null,
   "id": "2a73cb95",
   "metadata": {},
   "outputs": [],
   "source": []
  }
 ],
 "metadata": {
  "kernelspec": {
   "display_name": "Python 3",
   "language": "python",
   "name": "python3"
  },
  "language_info": {
   "codemirror_mode": {
    "name": "ipython",
    "version": 3
   },
   "file_extension": ".py",
   "mimetype": "text/x-python",
   "name": "python",
   "nbconvert_exporter": "python",
   "pygments_lexer": "ipython3",
   "version": "3.7.8rc1"
  }
 },
 "nbformat": 4,
 "nbformat_minor": 5
}
