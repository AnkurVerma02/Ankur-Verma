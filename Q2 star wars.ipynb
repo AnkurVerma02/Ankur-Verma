{
 "cells": [
  {
   "cell_type": "code",
   "execution_count": 26,
   "id": "34823c6c",
   "metadata": {},
   "outputs": [],
   "source": [
    "file2=\"Dataset_Q2.csv\""
   ]
  },
  {
   "cell_type": "code",
   "execution_count": 27,
   "id": "65f2ce53",
   "metadata": {},
   "outputs": [
    {
     "name": "stdout",
     "output_type": "stream",
     "text": [
      "values of x :-\n",
      "[2.302, 2.574, 2.557, 2.614, 2.499, 2.486, 2.386, 2.444]\n",
      "\n",
      "Value of x is roughly 2.483 => Kepler's law doesn't hold on Endor!\n",
      "\n",
      "and thus the value of G is roughly = 34726027.907562055 (in Endor mass and radii)\n"
     ]
    }
   ],
   "source": [
    "from numpy import log\n",
    "from scipy.optimize import curve_fit\n",
    "import numpy as np\n",
    "x=[]\n",
    "arr=np.loadtxt(file2,delimiter=',',skiprows=1)\n",
    "n=len(arr)\n",
    "sum=0\n",
    "\n",
    "def calcvalue(M1,M2,T1,T2,a1,a2):\n",
    "    return (0.5*log(T1*T1*(1+M1)/(T2*T2*(1+M2)))/log(a1/a2))\n",
    "\n",
    "for i in range(n-1):\n",
    "    x.append(round(calcvalue(arr[i][0],arr[i+1][0],arr[i][1],arr[i+1][1],arr[i][2],arr[i+1][2]),3))\n",
    "    \n",
    "for i in range(n-1):\n",
    "    sum=sum+x[i]\n",
    "\n",
    "mean_x=round(sum/(n-1),3)\n",
    "print(\"values of x :-\\n\" + str(x))\n",
    "print(\"\\nValue of x is roughly \"+str(mean)+ \" => Kepler's law doesn't hold on Endor!\\n\")\n",
    "\n",
    "G=[]\n",
    "def calcG(m,T,a,x):\n",
    "    pi=3.14159265359\n",
    "    return (((pow(a,2*x))*4*pi*pi)/(T*T*(1+m)))\n",
    "\n",
    "def G_value(file,x):    \n",
    "    t=len(arr)\n",
    "    for i in range(t):\n",
    "        G.append(calcG(arr[i][0],arr[i][1],arr[i][2],x))\n",
    "\n",
    "G_value(file2,mean_x)\n",
    "sum1=0\n",
    "for i in range(n):\n",
    "    sum1+=G[i]\n",
    "mean_G=sum1/n\n",
    "print(\"and thus the value of G is roughly = \"+str(mean_G)+\" (in Endor mass and radii)\")    "
   ]
  },
  {
   "cell_type": "code",
   "execution_count": null,
   "id": "b273750e",
   "metadata": {},
   "outputs": [],
   "source": []
  },
  {
   "cell_type": "code",
   "execution_count": null,
   "id": "5997977f",
   "metadata": {},
   "outputs": [],
   "source": []
  },
  {
   "cell_type": "code",
   "execution_count": null,
   "id": "1b6c6998",
   "metadata": {},
   "outputs": [],
   "source": []
  },
  {
   "cell_type": "code",
   "execution_count": null,
   "id": "4a3b5d84",
   "metadata": {},
   "outputs": [],
   "source": []
  },
  {
   "cell_type": "code",
   "execution_count": null,
   "id": "5f055cef",
   "metadata": {},
   "outputs": [],
   "source": []
  },
  {
   "cell_type": "code",
   "execution_count": null,
   "id": "7fa65f39",
   "metadata": {},
   "outputs": [],
   "source": []
  },
  {
   "cell_type": "code",
   "execution_count": null,
   "id": "bae7e1db",
   "metadata": {},
   "outputs": [],
   "source": []
  },
  {
   "cell_type": "code",
   "execution_count": null,
   "id": "0fab307b",
   "metadata": {},
   "outputs": [],
   "source": []
  },
  {
   "cell_type": "code",
   "execution_count": null,
   "id": "ae32bac8",
   "metadata": {},
   "outputs": [],
   "source": []
  },
  {
   "cell_type": "code",
   "execution_count": null,
   "id": "239bc8a1",
   "metadata": {},
   "outputs": [],
   "source": []
  },
  {
   "cell_type": "code",
   "execution_count": null,
   "id": "6cae2494",
   "metadata": {},
   "outputs": [],
   "source": []
  }
 ],
 "metadata": {
  "kernelspec": {
   "display_name": "Python 3",
   "language": "python",
   "name": "python3"
  },
  "language_info": {
   "codemirror_mode": {
    "name": "ipython",
    "version": 3
   },
   "file_extension": ".py",
   "mimetype": "text/x-python",
   "name": "python",
   "nbconvert_exporter": "python",
   "pygments_lexer": "ipython3",
   "version": "3.7.8rc1"
  }
 },
 "nbformat": 4,
 "nbformat_minor": 5
}
