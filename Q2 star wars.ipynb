{
 "cells": [
  {
   "cell_type": "code",
   "execution_count": 63,
   "id": "01a2fb19",
   "metadata": {},
   "outputs": [],
   "source": [
    "file2=\"Dataset_Q2.csv\""
   ]
  },
  {
   "cell_type": "code",
   "execution_count": 64,
   "id": "9e73b111",
   "metadata": {},
   "outputs": [],
   "source": [
    "from numpy import log\n",
    "from scipy.optimize import curve_fit\n",
    "import numpy as np\n",
    "x=[]\n",
    "def calcvalue(M1,M2,T1,T2,a1,a2):\n",
    "    return (0.5*log(T1*T1*(1+M1)/(T2*T2*(1+M2)))/log(a1/a2))\n",
    "def storevalue(file):\n",
    "    arr=np.loadtxt(file,delimiter=',',skiprows=1)\n",
    "    t=len(arr)\n",
    "    for i in range(t-1):\n",
    "        x.append(round(calcvalue(arr[i][0],arr[i+1][0],arr[i][1],arr[i+1][1],arr[i][2],arr[i+1][2]),3))\n",
    "storevalue(file2)\n",
    "\n"
   ]
  },
  {
   "cell_type": "code",
   "execution_count": 65,
   "id": "7c902740",
   "metadata": {},
   "outputs": [
    {
     "name": "stdout",
     "output_type": "stream",
     "text": [
      "values of x :-\n",
      "[2.302, 2.574, 2.557, 2.614, 2.499, 2.486, 2.386, 2.444]\n",
      "\n",
      "Value of x is roughly 2.5 => Kepler's law doesn't hold on Endor!\n"
     ]
    }
   ],
   "source": [
    "print(\"values of x :-\\n\" + str(x))\n",
    "print(\"\\nValue of x is roughly 2.5 => Kepler's law doesn't hold on Endor!\")"
   ]
  },
  {
   "cell_type": "code",
   "execution_count": null,
   "id": "ece4be9e",
   "metadata": {},
   "outputs": [],
   "source": []
  },
  {
   "cell_type": "code",
   "execution_count": null,
   "id": "8b7dd699",
   "metadata": {},
   "outputs": [],
   "source": []
  },
  {
   "cell_type": "code",
   "execution_count": null,
   "id": "a0dd5a10",
   "metadata": {},
   "outputs": [],
   "source": []
  },
  {
   "cell_type": "code",
   "execution_count": null,
   "id": "6dd08307",
   "metadata": {},
   "outputs": [],
   "source": []
  },
  {
   "cell_type": "code",
   "execution_count": null,
   "id": "11ac8f6a",
   "metadata": {},
   "outputs": [],
   "source": []
  },
  {
   "cell_type": "code",
   "execution_count": null,
   "id": "2cb68d83",
   "metadata": {},
   "outputs": [],
   "source": []
  },
  {
   "cell_type": "code",
   "execution_count": null,
   "id": "43aeaf5d",
   "metadata": {},
   "outputs": [],
   "source": []
  },
  {
   "cell_type": "code",
   "execution_count": null,
   "id": "adc3f9ff",
   "metadata": {},
   "outputs": [],
   "source": []
  },
  {
   "cell_type": "code",
   "execution_count": null,
   "id": "a5e1c218",
   "metadata": {},
   "outputs": [],
   "source": []
  },
  {
   "cell_type": "code",
   "execution_count": null,
   "id": "11854a75",
   "metadata": {},
   "outputs": [],
   "source": []
  }
 ],
 "metadata": {
  "kernelspec": {
   "display_name": "Python 3",
   "language": "python",
   "name": "python3"
  },
  "language_info": {
   "codemirror_mode": {
    "name": "ipython",
    "version": 3
   },
   "file_extension": ".py",
   "mimetype": "text/x-python",
   "name": "python",
   "nbconvert_exporter": "python",
   "pygments_lexer": "ipython3",
   "version": "3.7.8rc1"
  }
 },
 "nbformat": 4,
 "nbformat_minor": 5
}
